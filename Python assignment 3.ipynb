{
 "cells": [
  {
   "cell_type": "markdown",
   "metadata": {},
   "source": [
    "1.1 Write a Python Program to implement your own myreduce() function which works exactly\n",
    "like Python's built-in function reduce()"
   ]
  },
  {
   "cell_type": "code",
   "execution_count": 24,
   "metadata": {},
   "outputs": [
    {
     "name": "stdout",
     "output_type": "stream",
     "text": [
      "4\n",
      "-10\n",
      "12\n"
     ]
    }
   ],
   "source": [
    "def add(x,y):\n",
    "    #print(\"x=\",x,\" y=\",y)\n",
    "    return x+y\n",
    "\n",
    "def sub(x,y):\n",
    "    #print(\"x=\",x,\" y=\",y)\n",
    "    return x-y\n",
    "\n",
    "def mult(x,y):\n",
    "    #print(\"x=\",x,\" y=\",y)\n",
    "    return x*y\n",
    "\n",
    "def myreduce(func, seq):\n",
    "    if func == mult:\n",
    "        result=1\n",
    "    else:\n",
    "        result=0\n",
    "    \n",
    "    for i in seq:\n",
    "        result = func(result, i)\n",
    "    return result\n",
    "    \n",
    "\n",
    "final_result= myreduce(add, range(4,5))\n",
    "print(final_result)\n",
    "\n",
    "\n",
    "final_result= myreduce(sub, range(1,5))\n",
    "print(final_result)\n",
    "\n",
    "\n",
    "final_result= myreduce(mult, range(3,5))\n",
    "print(final_result)"
   ]
  },
  {
   "cell_type": "markdown",
   "metadata": {},
   "source": [
    "1.2 Write a Python program to implement your own myfilter() function which works exactly\n",
    "like Python's built-in function filter()"
   ]
  },
  {
   "cell_type": "code",
   "execution_count": 31,
   "metadata": {},
   "outputs": [
    {
     "data": {
      "text/plain": [
       "['a', 'e', 'i', 'o']"
      ]
     },
     "execution_count": 31,
     "metadata": {},
     "output_type": "execute_result"
    }
   ],
   "source": [
    "def myfilter(list1, iterable_list):\n",
    "    filter1 =[]\n",
    "    for i in list1:\n",
    "        if i in iterable_list:\n",
    "            filter1.append(i)\n",
    "    return filter1\n",
    "    \n",
    "\n",
    "myfilter([\"a\",\"e\",\"i\",\"o\",\"u\"], [\"a\",\"b\",\"c\",\"d\",\"e\",\"f\",\"g\",\"h\",\"g\",\"i\",\"z\",\"o\"])\n"
   ]
  },
  {
   "cell_type": "markdown",
   "metadata": {},
   "source": [
    "2. Implement List comprehensions to produce the following lists.\n",
    "Write List comprehensions to produce the following Lists\n",
    "['A', 'C', 'A', 'D', 'G', 'I', ’L’, ‘ D’]\n",
    "['x', 'xx', 'xxx', 'xxxx', 'y', 'yy', 'yyy', 'yyyy', 'z', 'zz', 'zzz', 'zzzz']\n",
    "['x', 'y', 'z', 'xx', 'yy', 'zz', 'xxx', 'yyy', 'zzz', 'xxxx', 'yyyy', 'zzzz']\n",
    "[[2], [3], [4], [3], [4], [5], [4], [5], [6]]\n",
    "[[2, 3, 4, 5], [3, 4, 5, 6],[4, 5, 6, 7], [5, 6, 7, 8]]\n",
    "[(1, 1), (2, 1), (3, 1), (1, 2), (2, 2), (3, 2), (1, 3), (2, 3), (3, 3)]"
   ]
  },
  {
   "cell_type": "code",
   "execution_count": 2,
   "metadata": {},
   "outputs": [
    {
     "name": "stdout",
     "output_type": "stream",
     "text": [
      "['A', 'C', 'A', 'D', 'G', 'I', 'L', 'D']\n"
     ]
    }
   ],
   "source": [
    "list1 = [\"A\",\"C\",\"A\",\"D\",\"G\",\"I\",\"L\",\"D\"]\n",
    "print(list1)"
   ]
  },
  {
   "cell_type": "code",
   "execution_count": 3,
   "metadata": {},
   "outputs": [
    {
     "name": "stdout",
     "output_type": "stream",
     "text": [
      "['x', 'xx', 'xxx', 'xxxx', 'y', 'yy', 'yyy', 'yyyy', 'z', 'zz', 'zzz', 'zzzz']\n"
     ]
    }
   ],
   "source": [
    "list2 = ['x','y','z']\n",
    "output_list= []\n",
    "for i in list2:\n",
    "    for j in range(1,5):\n",
    "        output_list.append(i*j)\n",
    "print(output_list)\n",
    "        "
   ]
  },
  {
   "cell_type": "code",
   "execution_count": 4,
   "metadata": {},
   "outputs": [
    {
     "name": "stdout",
     "output_type": "stream",
     "text": [
      "['x', 'y', 'z', 'xx', 'yy', 'zz', 'xxx', 'yyy', 'zzz', 'xxxx', 'yyyy', 'zzzz']\n"
     ]
    }
   ],
   "source": [
    "list3 = ['x','y','z']\n",
    "output_list= []\n",
    "for j in range(1,5):\n",
    "    for i in list2:\n",
    "        output_list.append(i*j)\n",
    "print(output_list)\n",
    "        "
   ]
  },
  {
   "cell_type": "code",
   "execution_count": 7,
   "metadata": {},
   "outputs": [
    {
     "name": "stdout",
     "output_type": "stream",
     "text": [
      "[[2], [3], [4], [3], [4], [5], [4], [5], [6]]\n"
     ]
    }
   ],
   "source": [
    "list4 = [2,3,4]\n",
    "output_list= []\n",
    "for i in list4:\n",
    "    for j in range(0,3):\n",
    "        output_list.append([i+j])\n",
    "print(output_list)\n",
    "    "
   ]
  },
  {
   "cell_type": "code",
   "execution_count": 8,
   "metadata": {},
   "outputs": [
    {
     "name": "stdout",
     "output_type": "stream",
     "text": [
      "[(1, 1), (1, 2), (1, 3), (2, 1), (2, 2), (2, 3), (3, 1), (3, 2), (3, 3)]\n"
     ]
    }
   ],
   "source": [
    "list5 = [1,2,3]\n",
    "output_list=[]\n",
    "for i in list5:\n",
    "    for j in range(1,4):\n",
    "        output_list.append((i,j))\n",
    "print(output_list)"
   ]
  },
  {
   "cell_type": "code",
   "execution_count": null,
   "metadata": {},
   "outputs": [],
   "source": []
  }
 ],
 "metadata": {
  "kernelspec": {
   "display_name": "Python 3",
   "language": "python",
   "name": "python3"
  },
  "language_info": {
   "codemirror_mode": {
    "name": "ipython",
    "version": 3
   },
   "file_extension": ".py",
   "mimetype": "text/x-python",
   "name": "python",
   "nbconvert_exporter": "python",
   "pygments_lexer": "ipython3",
   "version": "3.7.3"
  }
 },
 "nbformat": 4,
 "nbformat_minor": 2
}
